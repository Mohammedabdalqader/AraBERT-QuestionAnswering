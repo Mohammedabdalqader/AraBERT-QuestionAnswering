{
 "cells": [
  {
   "cell_type": "markdown",
   "metadata": {},
   "source": [
    "## This notebook is used to pre-train AraBERTv2 on a specific domain dataset that will later be used for a downtask problem, such as a question answering system.\n",
    "### The code uses Tensorflow 1.x"
   ]
  },
  {
   "cell_type": "code",
   "execution_count": 4,
   "metadata": {},
   "outputs": [],
   "source": [
    "from src.pretraining.preprocess import ArabertPreprocessor\n",
    "import tensorflow as tf"
   ]
  },
  {
   "cell_type": "markdown",
   "metadata": {},
   "source": [
    "### Download Tensorflow pretrained model from huggingface"
   ]
  },
  {
   "cell_type": "code",
   "execution_count": 4,
   "metadata": {},
   "outputs": [
    {
     "name": "stdout",
     "output_type": "stream",
     "text": [
      "tf-base-arabertv2/\n",
      "tf-base-arabertv2/config.json\n",
      "tf-base-arabertv2/model.ckpt.data-00000-of-00001\n",
      "tf-base-arabertv2/vocab.txt\n",
      "tf-base-arabertv2/model.ckpt.index\n",
      "tf-base-arabertv2/checkpoint\n",
      "tf-base-arabertv2/model.ckpt.meta\n"
     ]
    }
   ],
   "source": [
    "!wget https://huggingface.co/aubmindlab/bert-base-arabertv2/resolve/main/tf1_model.tar.gz -O bert-base-arabertv2/tf1_model.tar.gz\n",
    "!tar -xvf bert-base-arabertv2/tf1_model.tar.gz -C bert-base-arabertv2/\n",
    "!rm bert-base-arabertv2/tf1_model.tar.gz"
   ]
  },
  {
   "cell_type": "markdown",
   "metadata": {},
   "source": [
    "### Preprocess the dataset with farasa_segmentation"
   ]
  },
  {
   "cell_type": "code",
   "execution_count": 5,
   "metadata": {},
   "outputs": [
    {
     "name": "stderr",
     "output_type": "stream",
     "text": [
      "[2022-08-27 23:05:23,109 - farasapy_logger - WARNING]: Be careful with large lines as they may break on interactive mode. You may switch to Standalone mode for such cases.\n"
     ]
    },
    {
     "name": "stdout",
     "output_type": "stream",
     "text": [
      "يعود تاريخ وزار +ة ال+ إسكان و+ ال+ تخطيط ال+ عمراني إلى ال+ عام 1975 ، عندما أصدر صاحب ال+ سمو ال+ شيخ عيسى بن سلمان آل خليف +ة أمير دول +ة ال+ بحرين – طيب الله ثرا +ه .\n"
     ]
    }
   ],
   "source": [
    "model_name = \"aubmindlab/bert-base-arabertv2\"\n",
    "sample_text = \"dataset/pretraining-dataset/iskan.txt\"\n",
    "sample_text_output_after_farasa_segmentation = \"dataset/pretraining-dataset/iskan_farasa_segmentation.txt\"\n",
    "\n",
    "arabert_prep = ArabertPreprocessor(model_name=model_name)\n",
    "\n",
    "with open(sample_text, \"r\") as f:\n",
    "    data = [d.strip(\"\\n\") for d in f.readlines()]\n",
    "\n",
    "with open(sample_text_output_after_farasa_segmentation, \"w\") as f:\n",
    "    for sample in data:\n",
    "        f.write(arabert_prep.preprocess(sample) +\"\\n\")\n",
    "\n",
    "# Here is how the sample after farasa segmentation looks like\n",
    "print(arabert_prep.preprocess(data[0]))"
   ]
  },
  {
   "cell_type": "markdown",
   "metadata": {},
   "source": [
    "### Create data for pretraining AraBERTv2. This will convert the dataset in an expected format which is \".tfrecord\""
   ]
  },
  {
   "cell_type": "code",
   "execution_count": null,
   "metadata": {},
   "outputs": [],
   "source": [
    "!python src/pretraining/create_pretraining_data.py \\\n",
    "  --input_file=./dataset/pretraining-dataset/iskan_farasa_segmentation.txt \\\n",
    "  --output_file=./dataset/pretraining-dataset/iskan.tfrecord \\\n",
    "  --vocab_file=bert-base-arabertv2/tf-base-arabertv2/vocab.txt \\\n",
    "  --do_lower_case=True \\\n",
    "  --max_seq_length=128 \\\n",
    "  --max_predictions_per_seq=20 \\\n",
    "  --masked_lm_prob=0.15 \\\n",
    "  --random_seed=12345 \\\n",
    "  --dupe_factor=5"
   ]
  },
  {
   "cell_type": "markdown",
   "metadata": {},
   "source": [
    "### Pre-train/fine-tune AraBERTv2 on a specific domain"
   ]
  },
  {
   "cell_type": "code",
   "execution_count": null,
   "metadata": {},
   "outputs": [],
   "source": [
    "!python src/pretraining/run_pretraining.py \\\n",
    "  --input_file=dataset/pretraining-dataset/iskan.tfrecord \\\n",
    "  --output_dir=pretraining_output\\\n",
    "  --do_train=True \\\n",
    "  --do_eval=True \\\n",
    "  --bert_config_file=bert-base-arabertv2/tf-base-arabertv2/config.json \\\n",
    "  --init_checkpoint=bert-base-arabertv2/tf-base-arabertv2/model.ckpt \\\n",
    "  --train_batch_size=2 \\\n",
    "  --max_seq_length=128 \\\n",
    "  --max_predictions_per_seq=20 \\\n",
    "  --num_train_steps=50 \\\n",
    "  --num_warmup_steps=10 \\\n",
    "  --learning_rate=5e-5 "
   ]
  },
  {
   "cell_type": "markdown",
   "metadata": {},
   "source": [
    "### Convert Tensorflow checkpoints to a Pytorch model for later use in fine-tuning the model for downstream tasks, e.g., a question answering system."
   ]
  },
  {
   "cell_type": "code",
   "execution_count": null,
   "metadata": {},
   "outputs": [],
   "source": [
    "\n",
    "!transformers-cli convert --model_type bert \\\n",
    "  --tf_checkpoint pretraining_output/model.ckpt-50 \\\n",
    "  --config bert-base-arabertv2/tf-base-arabertv2/config.json \\\n",
    "  --pytorch_dump_output bert-base-arabertv2/pytorch_model.bin"
   ]
  },
  {
   "cell_type": "code",
   "execution_count": null,
   "metadata": {},
   "outputs": [],
   "source": []
  }
 ],
 "metadata": {
  "kernelspec": {
   "display_name": "Python 3.7.13 ('python37')",
   "language": "python",
   "name": "python3"
  },
  "language_info": {
   "codemirror_mode": {
    "name": "ipython",
    "version": 3
   },
   "file_extension": ".py",
   "mimetype": "text/x-python",
   "name": "python",
   "nbconvert_exporter": "python",
   "pygments_lexer": "ipython3",
   "version": "3.7.13"
  },
  "orig_nbformat": 4,
  "vscode": {
   "interpreter": {
    "hash": "368899a92c96b77b8737d0c0899584e6db5764acf4a0aebf08a9f2dc81b165b5"
   }
  }
 },
 "nbformat": 4,
 "nbformat_minor": 2
}
